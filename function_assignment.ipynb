{
 "cells": [
  {
   "cell_type": "code",
   "execution_count": 1,
   "id": "62401f4a-3054-466c-ae37-c04fc26033be",
   "metadata": {},
   "outputs": [],
   "source": [
    "#Q1. Which keyword is used to create a function? Create a function to return a list of odd numbers in the\n",
    "#    range of 1 to 25.\n"
   ]
  },
  {
   "cell_type": "code",
   "execution_count": 9,
   "id": "d2e50887-aa77-4a2d-97ce-66184c84c05d",
   "metadata": {},
   "outputs": [
    {
     "name": "stdout",
     "output_type": "stream",
     "text": [
      "[1, 3, 5, 7, 9, 11, 13, 15, 17, 19, 21, 23, 25]\n"
     ]
    }
   ],
   "source": [
    "# Sol 1\n",
    "\n",
    "# Def test_function is used for create function.\n",
    " \n",
    "def get_odd_numbers():\n",
    "    odd_numbers = []\n",
    "    for i in range(1, 26):\n",
    "        if i % 2 != 0:\n",
    "            odd_numbers.append(i)\n",
    "    return odd_numbers\n",
    "\n",
    "# Call the function to get the list of odd numbershai\n",
    "result = get_odd_numbers()\n",
    "print(result)\n",
    "\n",
    "            \n"
   ]
  },
  {
   "cell_type": "code",
   "execution_count": 10,
   "id": "1c9698aa-0f2d-487e-82ec-9ab54eff3de3",
   "metadata": {},
   "outputs": [],
   "source": [
    "# Q2. Why *args and **kwargs is used in some functions? Create a function each for *args and **kwargs\n",
    "#     to demonstrate their use.\n"
   ]
  },
  {
   "cell_type": "code",
   "execution_count": 29,
   "id": "a9b7a2ca-0522-40bc-b941-08adf12ad0a8",
   "metadata": {},
   "outputs": [],
   "source": [
    "# sol-2\n",
    "#  *args is used to give n numbers of values in def (n)\n",
    "#   ** kwargs is used for dictonary in functions\n",
    "\n",
    "def test(*args):\n",
    "    return args\n",
    "\n",
    "def test1(**kwargs):\n",
    "    return kwargs\n"
   ]
  },
  {
   "cell_type": "code",
   "execution_count": 33,
   "id": "e8dbfdd4-212b-4401-91cf-08b117794872",
   "metadata": {},
   "outputs": [
    {
     "data": {
      "text/plain": [
       "()"
      ]
     },
     "execution_count": 33,
     "metadata": {},
     "output_type": "execute_result"
    }
   ],
   "source": [
    "test()\n"
   ]
  },
  {
   "cell_type": "code",
   "execution_count": 32,
   "id": "dd312504-e2c3-4b22-8afc-095e7780aba5",
   "metadata": {},
   "outputs": [],
   "source": [
    "def test1(**kwargs):\n",
    "    return kwargs\n"
   ]
  },
  {
   "cell_type": "code",
   "execution_count": 34,
   "id": "ee422825-12a8-4496-9d43-4a88aaf150e7",
   "metadata": {},
   "outputs": [
    {
     "data": {
      "text/plain": [
       "{}"
      ]
     },
     "execution_count": 34,
     "metadata": {},
     "output_type": "execute_result"
    }
   ],
   "source": [
    "test1()"
   ]
  },
  {
   "cell_type": "code",
   "execution_count": 38,
   "id": "b9727bad-03a8-46af-a1e8-94b2101062f0",
   "metadata": {},
   "outputs": [],
   "source": [
    "# Q3. What is an iterator in python? Name the method used to initialise the iterator object and the method\n",
    "# used for iteration. Use these methods to print the first five elements of the given list [2, 4, 6, 8, 10, 12, 14,\n",
    "# 16, 18, 20].\n"
   ]
  },
  {
   "cell_type": "code",
   "execution_count": 39,
   "id": "f997b277-fa19-4d0e-b4a5-bdd0ec580432",
   "metadata": {},
   "outputs": [
    {
     "name": "stdout",
     "output_type": "stream",
     "text": [
      "2\n",
      "4\n",
      "6\n",
      "8\n",
      "10\n"
     ]
    }
   ],
   "source": [
    "# sol 3 \n",
    "# In Python, an iterator is an object that allows you to iterate (loop) through a collection of items,\n",
    "# such as a list, tuple, or other iterable objects. Iterators are used to retrieve one item at a time\n",
    "# from the collection, and they keep track of the current position during iteration.\n",
    "\n",
    "# Create an iterator object for the list\n",
    "my_list = [2, 4, 6, 8, 10, 12, 14, 16, 18, 20]\n",
    "my_iterator = iter(my_list)\n",
    "\n",
    "# Use the iterator to print the first five elements\n",
    "for _ in range(5):\n",
    "    element = next(my_iterator)\n",
    "    print(element)\n",
    "\n"
   ]
  },
  {
   "cell_type": "code",
   "execution_count": 40,
   "id": "651d9e5b-f456-49b0-a4c7-a66f581397c1",
   "metadata": {},
   "outputs": [],
   "source": [
    "#  Q4. What is a generator function in python? Why yield keyword is used? Give an example of a generator \n",
    "#      function"
   ]
  },
  {
   "cell_type": "code",
   "execution_count": 42,
   "id": "31ab449d-26b1-4dbe-ac08-17029fbae932",
   "metadata": {},
   "outputs": [
    {
     "name": "stdout",
     "output_type": "stream",
     "text": [
      "0\n",
      "2\n",
      "4\n",
      "6\n",
      "8\n"
     ]
    }
   ],
   "source": [
    "# sol-4 \n",
    "#  A generator function in Python is a special type of function that allows you to create an iterator in \n",
    "#  a more concise and memory-efficient way compared to traditional list comprehensions or loops. \n",
    "\n",
    "#  The yield keyword is used to pause the function's execution and \"yield\" a value to the caller.\n",
    "#  When the function is paused, its state is saved, and the next time the function is called with the\n",
    "#  next() function or used in a for loop, it resumes execution from where it left off, allowing it to\n",
    "#  generate and yield the next value in the sequence.\n",
    "\n",
    "\n",
    "\n",
    "def even_numbers():\n",
    "    n = 0\n",
    "    while True:\n",
    "        yield n\n",
    "        n += 2\n",
    "\n",
    "# Create a generator object\n",
    "even_gen = even_numbers()\n",
    "\n",
    "# Use the generator to print the first five even numbers\n",
    "for _ in range(5):\n",
    "    print(next(even_gen))\n",
    "\n",
    "\n"
   ]
  },
  {
   "cell_type": "code",
   "execution_count": 43,
   "id": "7fdc9bb9-57ab-4d72-b588-dc48d2806cfd",
   "metadata": {},
   "outputs": [],
   "source": [
    "# Q5. Create a generator function for prime numbers less than 1000. Use the next() method to print the\n",
    "#       first 20 prime numbers.\n"
   ]
  },
  {
   "cell_type": "code",
   "execution_count": 46,
   "id": "0a2bf0ef-346f-4648-8dfe-f3f429379880",
   "metadata": {},
   "outputs": [
    {
     "name": "stdout",
     "output_type": "stream",
     "text": [
      "2\n",
      "3\n",
      "5\n",
      "7\n",
      "11\n",
      "13\n",
      "17\n",
      "19\n",
      "23\n",
      "29\n",
      "31\n",
      "37\n",
      "41\n",
      "43\n",
      "47\n",
      "53\n",
      "59\n",
      "61\n",
      "67\n",
      "71\n"
     ]
    }
   ],
   "source": [
    "#  sol-5\n",
    "\n",
    "def is_prime(num):\n",
    "    if num <= 1:\n",
    "        return False\n",
    "    elif num <= 3:\n",
    "        return True\n",
    "    elif num % 2 == 0 or num % 3 == 0:\n",
    "        return False\n",
    "    i = 5\n",
    "    while i * i <= num:\n",
    "        if num % i == 0 or num % (i + 2) == 0:\n",
    "            return False\n",
    "        i += 6\n",
    "    return True\n",
    "\n",
    "def prime_generator():\n",
    "    num = 2\n",
    "    count = 0\n",
    "    while count < 20:\n",
    "        if is_prime(num):\n",
    "            yield num\n",
    "            count += 1\n",
    "        num += 1\n",
    "\n",
    "# Create a generator object\n",
    "prime_gen = prime_generator()\n",
    "\n",
    "# Use the generator to print the first 20 prime numbers\n",
    "for _ in range(20):\n",
    "    print(next(prime_gen))\n",
    "\n"
   ]
  },
  {
   "cell_type": "code",
   "execution_count": 47,
   "id": "ac7c1cb1-f87d-47ce-a9b6-54b290b91e99",
   "metadata": {},
   "outputs": [],
   "source": [
    "# Q6. Write a python program to print the first 10 Fibonacci numbers using a while loop."
   ]
  },
  {
   "cell_type": "code",
   "execution_count": 49,
   "id": "81949715-cf88-4e05-b7f1-161bed0e6447",
   "metadata": {},
   "outputs": [
    {
     "name": "stdout",
     "output_type": "stream",
     "text": [
      "0 1 1 2 3 5 8 13 21 34 "
     ]
    }
   ],
   "source": [
    "#  sol-6\n",
    "\n",
    "\n",
    "a, b = 0, 1\n",
    "count = 0\n",
    "\n",
    "while count < 10:\n",
    "    print(a, end=\" \")  \n",
    "    a, b = b, a + b    \n",
    "    count += 1         \n"
   ]
  },
  {
   "cell_type": "code",
   "execution_count": 50,
   "id": "fe3074b1-2906-4753-b2c6-6b438ad58d93",
   "metadata": {},
   "outputs": [],
   "source": [
    "#  Q7. Write a List Comprehension to iterate through the given string: ‘pwskills’.\n",
    "#      Expected output: ['p', 'w', 's', 'k', 'i', 'l', 'l', 's']"
   ]
  },
  {
   "cell_type": "code",
   "execution_count": 51,
   "id": "d07e9690-f505-4359-9633-01f39846b149",
   "metadata": {},
   "outputs": [
    {
     "name": "stdout",
     "output_type": "stream",
     "text": [
      "['p', 'w', 's', 'k', 'i', 'l', 'l', 's']\n"
     ]
    }
   ],
   "source": [
    "# sol- 7\n",
    "\n",
    "input_string = 'pwskills'\n",
    "result = [char for char in input_string]\n",
    "print(result)\n"
   ]
  },
  {
   "cell_type": "code",
   "execution_count": 52,
   "id": "b1f8a72a-15d8-4f27-8ee9-5df8d0756d37",
   "metadata": {},
   "outputs": [],
   "source": [
    "# Q8. Write a python program to check whether a given number is Palindrome or not using a while loop."
   ]
  },
  {
   "cell_type": "code",
   "execution_count": 55,
   "id": "daa7be5a-fc1e-4284-9437-c0f553e57339",
   "metadata": {},
   "outputs": [
    {
     "name": "stdin",
     "output_type": "stream",
     "text": [
      "Enter a number:  9\n"
     ]
    },
    {
     "name": "stdout",
     "output_type": "stream",
     "text": [
      "9 is a palindrome.\n"
     ]
    }
   ],
   "source": [
    "#  sol-8\n",
    "\n",
    "\n",
    "num = int(input(\"Enter a number: \"))\n",
    "original_num = num\n",
    "\n",
    "\n",
    "reversed_num = 0\n",
    "\n",
    "\n",
    "while num > 0:\n",
    "    remainder = num % 10 \n",
    "    reversed_num = reversed_num * 10 + remainder  \n",
    "    num = num // 10\n",
    "\n",
    "if original_num == reversed_num:\n",
    "    print(original_num, \"is a palindrome.\")\n",
    "else:\n",
    "    print(original_num, \"is not a palindrome.\")\n"
   ]
  },
  {
   "cell_type": "code",
   "execution_count": 56,
   "id": "9c0edfc2-7032-452d-89ef-da8efa27216f",
   "metadata": {},
   "outputs": [],
   "source": [
    "#  Q9. Write a code to print odd numbers from 1 to 100 using list comprehension."
   ]
  },
  {
   "cell_type": "code",
   "execution_count": 57,
   "id": "7b81613d-5a4a-4e91-a0a3-5c06842603cc",
   "metadata": {},
   "outputs": [
    {
     "name": "stdout",
     "output_type": "stream",
     "text": [
      "[1, 3, 5, 7, 9, 11, 13, 15, 17, 19, 21, 23, 25, 27, 29, 31, 33, 35, 37, 39, 41, 43, 45, 47, 49, 51, 53, 55, 57, 59, 61, 63, 65, 67, 69, 71, 73, 75, 77, 79, 81, 83, 85, 87, 89, 91, 93, 95, 97, 99]\n"
     ]
    }
   ],
   "source": [
    "# sol- 9\n",
    "\n",
    "odd_numbers = [num for num in range(1, 101) if num % 2 != 0]\n",
    "\n",
    "print(odd_numbers)\n"
   ]
  },
  {
   "cell_type": "code",
   "execution_count": null,
   "id": "f530999f-fd48-45ff-b1c0-5723a08a8fca",
   "metadata": {},
   "outputs": [],
   "source": []
  }
 ],
 "metadata": {
  "kernelspec": {
   "display_name": "Python 3 (ipykernel)",
   "language": "python",
   "name": "python3"
  },
  "language_info": {
   "codemirror_mode": {
    "name": "ipython",
    "version": 3
   },
   "file_extension": ".py",
   "mimetype": "text/x-python",
   "name": "python",
   "nbconvert_exporter": "python",
   "pygments_lexer": "ipython3",
   "version": "3.10.8"
  }
 },
 "nbformat": 4,
 "nbformat_minor": 5
}
